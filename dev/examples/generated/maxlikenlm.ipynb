{
 "cells": [
  {
   "cell_type": "markdown",
   "source": [
    "# Maximum Likelihood Estimation: The Normal Linear Model"
   ],
   "metadata": {}
  },
  {
   "cell_type": "markdown",
   "source": [
    "The following tutorial will introduce maximum likelihood estimation\n",
    "in Julia for the normal linear model.\n",
    "\n",
    "The normal linear model (sometimes referred to as the OLS model) is\n",
    "the workhorse of regression modeling and is utilized across a number\n",
    "of diverse fields.  In this tutorial, we will utilize simulated data\n",
    "to demonstrate how Julia can be used to recover the parameters of\n",
    "interest.\n",
    "\n",
    "The first order of business is to use the `Optim` package\n",
    "and also include the `NLSolversBase` routine:"
   ],
   "metadata": {}
  },
  {
   "outputs": [],
   "cell_type": "code",
   "source": [
    "using Optim, NLSolversBase\n",
    "using LinearAlgebra: diag\n",
    "using ForwardDiff"
   ],
   "metadata": {},
   "execution_count": 1
  },
  {
   "cell_type": "markdown",
   "source": [
    "The first item that needs to be addressed is the data generating process or DGP.\n",
    "The following code will produce data from a normal linear model:"
   ],
   "metadata": {}
  },
  {
   "outputs": [],
   "cell_type": "code",
   "source": [
    "n = 40                              # Number of observations\n",
    "nvar = 2                            # Number of variables\n",
    "β = ones(nvar) * 3.0                # True coefficients\n",
    "x = [ 1.0   0.156651\t\t\t\t# X matrix of explanatory variables plus constant\n",
    " 1.0  -1.34218\n",
    " 1.0   0.238262\n",
    " 1.0  -0.496572\n",
    " 1.0   1.19352\n",
    " 1.0   0.300229\n",
    " 1.0   0.409127\n",
    " 1.0  -0.88967\n",
    " 1.0  -0.326052\n",
    " 1.0  -1.74367\n",
    " 1.0  -0.528113\n",
    " 1.0   1.42612\n",
    " 1.0  -1.08846\n",
    " 1.0  -0.00972169\n",
    " 1.0  -0.85543\n",
    " 1.0   1.0301\n",
    " 1.0   1.67595\n",
    " 1.0  -0.152156\n",
    " 1.0   0.26666\n",
    " 1.0  -0.668618\n",
    " 1.0  -0.36883\n",
    " 1.0  -0.301392\n",
    " 1.0   0.0667779\n",
    " 1.0  -0.508801\n",
    " 1.0  -0.352346\n",
    " 1.0   0.288688\n",
    " 1.0  -0.240577\n",
    " 1.0  -0.997697\n",
    " 1.0  -0.362264\n",
    " 1.0   0.999308\n",
    " 1.0  -1.28574\n",
    " 1.0  -1.91253\n",
    " 1.0   0.825156\n",
    " 1.0  -0.136191\n",
    " 1.0   1.79925\n",
    " 1.0  -1.10438\n",
    " 1.0   0.108481\n",
    " 1.0   0.847916\n",
    " 1.0   0.594971\n",
    " 1.0   0.427909]\n",
    "\n",
    "ε = [0.5539830489065279             # Errors\n",
    " -0.7981494315544392\n",
    "  0.12994853889935182\n",
    "  0.23315434715658184\n",
    " -0.1959788033050691\n",
    " -0.644463980478783\n",
    " -0.04055657880388486\n",
    " -0.33313251280917094\n",
    " -0.315407370840677\n",
    "  0.32273952815870866\n",
    "  0.56790436131181\n",
    "  0.4189982390480762\n",
    " -0.0399623088796998\n",
    " -0.2900421677961449\n",
    " -0.21938513655749814\n",
    " -0.2521429229103657\n",
    "  0.0006247891825243118\n",
    " -0.694977951759846\n",
    " -0.24108791530910414\n",
    "  0.1919989647431539\n",
    "  0.15632862280544485\n",
    " -0.16928298502504732\n",
    "  0.08912288359190582\n",
    "  0.0037707641031662006\n",
    " -0.016111044809837466\n",
    "  0.01852191562589722\n",
    " -0.762541135294584\n",
    " -0.7204431774719634\n",
    " -0.04394527523005201\n",
    " -0.11956323865320413\n",
    " -0.6713329013627437\n",
    " -0.2339928433338628\n",
    " -0.6200532213195297\n",
    " -0.6192380993792371\n",
    "  0.08834918731846135\n",
    " -0.5099307915921438\n",
    "  0.41527207925609494\n",
    " -0.7130133329859893\n",
    " -0.531213372742777\n",
    " -0.09029672309221337]\n",
    "\n",
    "y = x * β + ε;                      # Generate Data"
   ],
   "metadata": {},
   "execution_count": 2
  },
  {
   "cell_type": "markdown",
   "source": [
    "In the above example, we have 500 observations, 2 explanatory\n",
    "variables plus an intercept, an error variance equal to 0.5,\n",
    "coefficients equal to 3.0, and all of these are subject to change by\n",
    "the user. Since we know the true value of these parameters, we\n",
    "should obtain these values when we maximize the likelihood function.\n",
    "\n",
    "The next step in our tutorial is to define a Julia function for the\n",
    "likelihood function. The following function defines the likelihood\n",
    "function for the normal linear model:"
   ],
   "metadata": {}
  },
  {
   "outputs": [
    {
     "output_type": "execute_result",
     "data": {
      "text/plain": "Log_Likelihood (generic function with 1 method)"
     },
     "metadata": {},
     "execution_count": 3
    }
   ],
   "cell_type": "code",
   "source": [
    "function Log_Likelihood(X, Y, β, log_σ)\n",
    "    σ = exp(log_σ)\n",
    "    llike = -n/2*log(2π) - n/2* log(σ^2) - (sum((Y - X * β).^2) / (2σ^2))\n",
    "    llike = -llike\n",
    "end"
   ],
   "metadata": {},
   "execution_count": 3
  },
  {
   "cell_type": "markdown",
   "source": [
    "The log likelihood function accepts 4 inputs: the matrix of\n",
    "explanatory variables (X), the dependent variable (Y), the β's, and\n",
    "the error varicance. Note that we exponentiate the error variance in\n",
    "the second line of the code because the error variance cannot be\n",
    "negative and we want to avoid this situation when maximizing the\n",
    "likelihood.\n",
    "\n",
    "The next step in our tutorial is to optimize our function. We first\n",
    "use the `TwiceDifferentiable` command in order to obtain the Hessian\n",
    "matrix later on, which will be used to help form t-statistics:"
   ],
   "metadata": {}
  },
  {
   "outputs": [],
   "cell_type": "code",
   "source": [
    "func = TwiceDifferentiable(vars -> Log_Likelihood(x, y, vars[1:nvar], vars[nvar + 1]),\n",
    "                           ones(nvar+1); autodiff=:forward);"
   ],
   "metadata": {},
   "execution_count": 4
  },
  {
   "cell_type": "markdown",
   "source": [
    "The above statment accepts 4 inputs: the x matrix, the dependent\n",
    "variable y, and a vector of β's and the error variance.  The\n",
    "`vars[1:nvar]` is how we pass the vector of β's and the `vars[nvar +\n",
    "1]` is how we pass the error variance. You can think of this as a\n",
    "vector of parameters with the first 2 being β's and the last one is\n",
    "the error variance.\n",
    "\n",
    "The `ones(nvar+1)` are the starting values for the parameters and\n",
    "the `autodiff=:forward` command performs forward mode automatic\n",
    "differentiation.\n",
    "\n",
    "The actual optimization of the likelihood function is accomplished\n",
    "with the following command:"
   ],
   "metadata": {}
  },
  {
   "outputs": [
    {
     "output_type": "execute_result",
     "data": {
      "text/plain": " * Status: success\n\n * Candidate solution\n    Final objective value:     1.722256e+01\n\n * Found with\n    Algorithm:     Newton's Method\n\n * Convergence measures\n    |x - x'|               = 2.79e-10 ≰ 0.0e+00\n    |x - x'|/|x'|          = 9.12e-11 ≰ 0.0e+00\n    |f(x) - f(x')|         = 0.00e+00 ≤ 0.0e+00\n    |f(x) - f(x')|/|f(x')| = 0.00e+00 ≤ 0.0e+00\n    |g(x)|                 = 5.93e-14 ≤ 1.0e-08\n\n * Work counters\n    Seconds run:   0  (vs limit Inf)\n    Iterations:    9\n    f(x) calls:    39\n    ∇f(x) calls:   39\n    ∇²f(x) calls:  9\n"
     },
     "metadata": {},
     "execution_count": 5
    }
   ],
   "cell_type": "code",
   "source": [
    "opt = optimize(func, ones(nvar+1))"
   ],
   "metadata": {},
   "execution_count": 5
  },
  {
   "cell_type": "markdown",
   "source": [
    "The first input to the command is the function we wish to optimize\n",
    "and the second input are the starting values.\n",
    "\n",
    "After a brief period of time, you should see output of the\n",
    "optimization routine, with the parameter  estimates being very close\n",
    "to our simulated values.\n",
    "\n",
    "The optimization routine stores several quantities and we can obtain\n",
    "the maximim likelihood estimates with the following command:"
   ],
   "metadata": {}
  },
  {
   "outputs": [
    {
     "output_type": "execute_result",
     "data": {
      "text/plain": "3-element Vector{Float64}:\n  2.836642512088644\n  3.053452125511052\n -0.9883745114256862"
     },
     "metadata": {},
     "execution_count": 6
    }
   ],
   "cell_type": "code",
   "source": [
    "parameters = Optim.minimizer(opt)"
   ],
   "metadata": {},
   "execution_count": 6
  },
  {
   "cell_type": "markdown",
   "source": [
    "> **Note**\n",
    ">\n",
    "> Fieldnames for all of the quantities can be obtained with the following command:\n",
    "> fieldnames(opt)"
   ],
   "metadata": {}
  },
  {
   "cell_type": "markdown",
   "source": [
    "In order to obtain the correct Hessian matrix, we have to \"push\" the\n",
    "actual parameter values that maximizes the likelihood function since\n",
    "the `TwiceDifferentiable` command uses the next to last values to\n",
    "calculate the Hessian:"
   ],
   "metadata": {}
  },
  {
   "outputs": [
    {
     "output_type": "execute_result",
     "data": {
      "text/plain": "3×3 Matrix{Float64}:\n 288.769        -21.7755        1.18621e-13\n -21.7755       223.84         -1.17018e-13\n   1.18621e-13   -1.17018e-13  80.0"
     },
     "metadata": {},
     "execution_count": 7
    }
   ],
   "cell_type": "code",
   "source": [
    "numerical_hessian = hessian!(func,parameters)"
   ],
   "metadata": {},
   "execution_count": 7
  },
  {
   "cell_type": "markdown",
   "source": [
    "Let's find the estimated value of σ, rather than log σ, and it's standard error\n",
    "To do this, we will use the Delta Method: https://en.wikipedia.org/wiki/Delta_method"
   ],
   "metadata": {}
  },
  {
   "cell_type": "markdown",
   "source": [
    "this function exponetiates log σ"
   ],
   "metadata": {}
  },
  {
   "outputs": [
    {
     "output_type": "execute_result",
     "data": {
      "text/plain": "transform (generic function with 1 method)"
     },
     "metadata": {},
     "execution_count": 8
    }
   ],
   "cell_type": "code",
   "source": [
    "function transform(parameters)\n",
    "    parameters[end] = exp(parameters[end])\n",
    "    parameters\n",
    "end"
   ],
   "metadata": {},
   "execution_count": 8
  },
  {
   "cell_type": "markdown",
   "source": [
    "get the Jacobian of the transformation"
   ],
   "metadata": {}
  },
  {
   "outputs": [
    {
     "output_type": "execute_result",
     "data": {
      "text/plain": "3-element Vector{Float64}:\n 2.836642512088644\n 3.053452125511052\n 0.37218117584627275"
     },
     "metadata": {},
     "execution_count": 9
    }
   ],
   "cell_type": "code",
   "source": [
    "J = ForwardDiff.jacobian(transform, parameters)'\n",
    "parameters = transform(parameters)"
   ],
   "metadata": {},
   "execution_count": 9
  },
  {
   "cell_type": "markdown",
   "source": [
    "We can now invert our Hessian matrix  and use the Delta Method,\n",
    "to obtain the variance-covariance matrix:"
   ],
   "metadata": {}
  },
  {
   "outputs": [
    {
     "output_type": "execute_result",
     "data": {
      "text/plain": "3×3 Matrix{Float64}:\n  0.00348856   0.000339373  -1.74044e-18\n  0.000339373  0.00450049    2.26279e-18\n -1.74044e-18  2.26279e-18   0.00173149"
     },
     "metadata": {},
     "execution_count": 10
    }
   ],
   "cell_type": "code",
   "source": [
    "var_cov_matrix = J*inv(numerical_hessian)*J'"
   ],
   "metadata": {},
   "execution_count": 10
  },
  {
   "cell_type": "markdown",
   "source": [
    "test the estimated parameters and t-stats for correctness"
   ],
   "metadata": {}
  },
  {
   "outputs": [
    {
     "output_type": "execute_result",
     "data": {
      "text/plain": "3-element Vector{Float64}:\n 48.02654897758058\n 45.515682746940136\n  8.94427190999916"
     },
     "metadata": {},
     "execution_count": 11
    }
   ],
   "cell_type": "code",
   "source": [
    "t_stats = parameters./sqrt.(diag(var_cov_matrix))"
   ],
   "metadata": {},
   "execution_count": 11
  },
  {
   "cell_type": "markdown",
   "source": [
    "see the results"
   ],
   "metadata": {}
  },
  {
   "outputs": [
    {
     "name": "stdout",
     "output_type": "stream",
     "text": [
      "parameter estimates:[2.836642512088644, 3.053452125511052, 0.37218117584627275]\n",
      "t-statsitics: [48.02654897758058, 45.515682746940136, 8.94427190999916]\n"
     ]
    }
   ],
   "cell_type": "code",
   "source": [
    "println(\"parameter estimates:\", parameters)\n",
    "println(\"t-statsitics: \", t_stats)"
   ],
   "metadata": {},
   "execution_count": 12
  },
  {
   "cell_type": "markdown",
   "source": [
    "From here, one may examine other statistics of interest using the\n",
    "output from the optimization routine."
   ],
   "metadata": {}
  },
  {
   "cell_type": "markdown",
   "source": [
    "---\n",
    "\n",
    "*This notebook was generated using [Literate.jl](https://github.com/fredrikekre/Literate.jl).*"
   ],
   "metadata": {}
  }
 ],
 "nbformat_minor": 3,
 "metadata": {
  "language_info": {
   "file_extension": ".jl",
   "mimetype": "application/julia",
   "name": "julia",
   "version": "1.11.1"
  },
  "kernelspec": {
   "name": "julia-1.11",
   "display_name": "Julia 1.11.1",
   "language": "julia"
  }
 },
 "nbformat": 4
}
