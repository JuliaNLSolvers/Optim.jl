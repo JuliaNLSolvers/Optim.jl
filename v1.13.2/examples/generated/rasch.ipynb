{
 "cells": [
  {
   "cell_type": "markdown",
   "source": [
    "# Conditional Maximum Likelihood for the Rasch Model"
   ],
   "metadata": {}
  },
  {
   "outputs": [],
   "cell_type": "code",
   "source": [
    "using Optim, Random #hide"
   ],
   "metadata": {},
   "execution_count": 1
  },
  {
   "cell_type": "markdown",
   "source": [
    "The Rasch model is used in psychometrics as a model for\n",
    "assessment data such as student responses to a standardized\n",
    "test. Let $X_{pi}$ be the response accuracy of student $p$\n",
    "to item $i$ where $X_{pi}=1$ if the item was answered correctly\n",
    "and $X_{pi}=0$ otherwise for $p=1,\\ldots,n$ and $i=1,\\ldots,m$.\n",
    "The model for this accuracy is\n",
    "$$\n",
    "  P(\\mathbf{X}_{p}=\\mathbf{x}_{p}|\\xi_p, \\mathbf\\epsilon) = \\prod_{i=1}^m \\dfrac{(\\xi_p \\epsilon_j)^{x_{pi}}}{1 + \\xi_p\\epsilon_i}\n",
    "$$\n",
    "where $\\xi_p > 0$ the latent ability of person $p$ and $\\epsilon_i > 0$\n",
    "is the difficulty of item $i$."
   ],
   "metadata": {}
  },
  {
   "cell_type": "markdown",
   "source": [
    "We simulate data from this model:"
   ],
   "metadata": {}
  },
  {
   "outputs": [],
   "cell_type": "code",
   "source": [
    "Random.seed!(123)\n",
    "n = 1000\n",
    "m = 5\n",
    "theta = randn(n)\n",
    "delta = randn(m)\n",
    "r = zeros(n)\n",
    "s = zeros(m)\n",
    "\n",
    "for i = 1:n\n",
    "    p = exp.(theta[i] .- delta) ./ (1.0 .+ exp.(theta[i] .- delta))\n",
    "    for j = 1:m\n",
    "        if rand() < p[j] ##correct\n",
    "            r[i] += 1\n",
    "            s[j] += 1\n",
    "        end\n",
    "    end\n",
    "end\n",
    "f = [sum(r .== j) for j = 1:m];"
   ],
   "metadata": {},
   "execution_count": 2
  },
  {
   "cell_type": "markdown",
   "source": [
    "Since the number of parameters increases\n",
    "with sample size standard maximum likelihood will not provide us\n",
    "consistent estimates. Instead we consider the conditional likelihood.\n",
    "It can be shown that the Rasch model is an exponential family model and\n",
    "that the sum score $r_p = \\sum_{i} x_{pi}$ is the sufficient statistic for\n",
    "$\\xi_p$. If we condition on the sum score we should be able to eliminate\n",
    "$\\xi_p$. Indeed, with a bit of algebra we can show\n",
    "$$\n",
    "P(\\mathbf{X}_p = \\mathbf{x}_p | r_p, \\mathbf\\epsilon) = \\dfrac{\\prod_{i=1}^m \\epsilon_i^{x{ij}}}{\\gamma_{r_i}(\\mathbf\\epsilon)}\n",
    "$$\n",
    "where $\\gamma_r(\\mathbf\\epsilon)$ is the elementary symmetric function of order $r$\n",
    "$$\n",
    "\\gamma_r(\\mathbf\\epsilon) = \\sum_{\\mathbf{y} : \\mathbf{1}^\\intercal \\mathbf{y} = r} \\prod_{j=1}^m \\epsilon_j^{y_j}\n",
    "$$\n",
    "where the sum is over all possible answer configurations that give a sum\n",
    "score of $r$. Algorithms to efficiently compute $\\gamma$ and its\n",
    "derivatives are available in the literature (see eg Baker (1996) for a review\n",
    "and Biscarri (2018) for a more modern approach)"
   ],
   "metadata": {}
  },
  {
   "outputs": [
    {
     "output_type": "execute_result",
     "data": {
      "text/plain": "esf_ext! (generic function with 1 method)"
     },
     "metadata": {},
     "execution_count": 3
    }
   ],
   "cell_type": "code",
   "source": [
    "function esf_sum!(S::AbstractArray{T,1}, x::AbstractArray{T,1}) where {T<:Real}\n",
    "    n = length(x)\n",
    "    fill!(S, zero(T))\n",
    "    S[1] = one(T)\n",
    "    @inbounds for col = 1:n\n",
    "        for r = 1:col\n",
    "            row = col - r + 1\n",
    "            S[row+1] = S[row+1] + x[col] * S[row]\n",
    "        end\n",
    "    end\n",
    "end\n",
    "\n",
    "function esf_ext!(\n",
    "    S::AbstractArray{T,1},\n",
    "    H::AbstractArray{T,3},\n",
    "    x::AbstractArray{T,1},\n",
    ") where {T<:Real}\n",
    "    n = length(x)\n",
    "    esf_sum!(S, x)\n",
    "    H[:, :, 1] .= zero(T)\n",
    "    H[:, :, 2] .= one(T)\n",
    "\n",
    "    @inbounds for i = 3:n+1\n",
    "        for j = 1:n\n",
    "            H[j, j, i] = S[i-1] - x[j] * H[j, j, i-1]\n",
    "            for k = j+1:n\n",
    "                H[k, j, i] =\n",
    "                    S[i-1] - ((x[j] + x[k]) * H[k, j, i-1] + x[j] * x[k] * H[k, j, i-2])\n",
    "                H[j, k, i] = H[k, j, i]\n",
    "            end\n",
    "        end\n",
    "    end\n",
    "end"
   ],
   "metadata": {},
   "execution_count": 3
  },
  {
   "cell_type": "markdown",
   "source": [
    "The objective function we want to minimize is the negative log conditional\n",
    "likelihood\n",
    "$$\n",
    "\\begin{aligned}\n",
    "\\log{L_C(\\mathbf\\epsilon|\\mathbf{r})} &= \\sum_{p=1}^n \\sum_{i=1}^m x_{pi} \\log{\\epsilon_i} - \\log{\\gamma_{r_p}(\\mathbf\\epsilon)}\\\\\n",
    "  &= \\sum_{i=1}^m s_i \\log{\\epsilon_i} - \\sum_{r=1}^m f_r \\log{\\gamma_r(\\mathbf\\epsilon)}\n",
    "\\end{aligned}\n",
    "$$"
   ],
   "metadata": {}
  },
  {
   "outputs": [
    {
     "output_type": "execute_result",
     "data": {
      "text/plain": "neglogLC (generic function with 1 method)"
     },
     "metadata": {},
     "execution_count": 4
    }
   ],
   "cell_type": "code",
   "source": [
    "ϵ = ones(Float64, m)\n",
    "β0 = zeros(Float64, m)\n",
    "last_β = fill(NaN, m)\n",
    "S = zeros(Float64, m + 1)\n",
    "H = zeros(Float64, m, m, m + 1)\n",
    "\n",
    "function calculate_common!(x, last_x)\n",
    "    if x != last_x\n",
    "        copyto!(last_x, x)\n",
    "        ϵ .= exp.(-x)\n",
    "        esf_ext!(S, H, ϵ)\n",
    "    end\n",
    "end\n",
    "function neglogLC(β)\n",
    "    calculate_common!(β, last_β)\n",
    "    return -s'log.(ϵ) + f'log.(S[2:end])\n",
    "end"
   ],
   "metadata": {},
   "execution_count": 4
  },
  {
   "cell_type": "markdown",
   "source": [
    "Parameter estimation is usually performed with respect to the unconstrained parameter\n",
    "$\\beta_i = -\\log{\\epsilon_i}$. Taking the derivative with respect to $\\beta_i$\n",
    "(and applying the chain rule) one obtains\n",
    "$$\n",
    "  \\dfrac{\\partial\\log L_C(\\mathbf\\epsilon|\\mathbf{r})}{\\partial \\beta_i} = -s_i + \\epsilon_i\\sum_{r=1}^m \\dfrac{f_r \\gamma_{r-1}^{(j)}}{\\gamma_r}\n",
    "$$\n",
    "where $\\gamma_{r-1}^{(i)} = \\partial \\gamma_{r}(\\mathbf\\epsilon)/\\partial\\epsilon_i$."
   ],
   "metadata": {}
  },
  {
   "outputs": [
    {
     "output_type": "execute_result",
     "data": {
      "text/plain": "g! (generic function with 1 method)"
     },
     "metadata": {},
     "execution_count": 5
    }
   ],
   "cell_type": "code",
   "source": [
    "function g!(storage, β)\n",
    "    calculate_common!(β, last_β)\n",
    "    for j = 1:m\n",
    "        storage[j] = s[j]\n",
    "        for l = 1:m\n",
    "            storage[j] -= ϵ[j] * f[l] * (H[j, j, l+1] / S[l+1])\n",
    "        end\n",
    "    end\n",
    "end"
   ],
   "metadata": {},
   "execution_count": 5
  },
  {
   "cell_type": "markdown",
   "source": [
    "Similarly the Hessian matrix can be computed\n",
    "$$\n",
    "  \\dfrac{\\partial^2 \\log L_C(\\mathbf\\epsilon|\\mathbf{r})}{\\partial \\beta_i\\partial\\beta_j} = \\begin{cases} \\displaystyle  -\\epsilon_i \\sum_{r=1}^m \\dfrac{f_r\\gamma_{r-1}^{(i)}}{\\gamma_r}\\left(1 - \\dfrac{\\gamma_{r-1}^{(i)}}{\\gamma_r}\\right) & \\text{if $i=j$}\\\\\n",
    "    \\displaystyle -\\epsilon_i\\epsilon_j\\sum_{r=1}^m \\dfrac{f_r \\gamma_{r-2}^{(i,j)}}{\\gamma_r} - \\dfrac{f_r\\gamma_{r-1}^{(i)}\\gamma_{r-1}^{(j)}}{\\gamma_r^2} &\\text{if $i\\neq j$}\n",
    "   \\end{cases}\n",
    "$$\n",
    "where $\\gamma_{r-2}^{(i,j)} = \\partial^2 \\gamma_{r}(\\mathbf\\epsilon)/\\partial\\epsilon_i\\partial\\epsilon_j$."
   ],
   "metadata": {}
  },
  {
   "outputs": [
    {
     "output_type": "execute_result",
     "data": {
      "text/plain": "h! (generic function with 1 method)"
     },
     "metadata": {},
     "execution_count": 6
    }
   ],
   "cell_type": "code",
   "source": [
    "function h!(storage, β)\n",
    "    calculate_common!(β, last_β)\n",
    "    for j = 1:m\n",
    "        for k = 1:m\n",
    "            storage[k, j] = 0.0\n",
    "            for l = 1:m\n",
    "                if j == k\n",
    "                    storage[j, j] +=\n",
    "                        f[l] *\n",
    "                        (ϵ[j] * H[j, j, l+1] / S[l+1]) *\n",
    "                        (1 - ϵ[j] * H[j, j, l+1] / S[l+1])\n",
    "                elseif k > j\n",
    "                    storage[k, j] +=\n",
    "                        ϵ[j] *\n",
    "                        ϵ[k] *\n",
    "                        f[l] *\n",
    "                        ((H[k, j, l] / S[l+1]) - (H[j, j, l+1] * H[k, k, l+1]) / S[l+1]^2)\n",
    "                else #k < j\n",
    "                    storage[k, j] +=\n",
    "                        ϵ[j] *\n",
    "                        ϵ[k] *\n",
    "                        f[l] *\n",
    "                        ((H[j, k, l] / S[l+1]) - (H[j, j, l+1] * H[k, k, l+1]) / S[l+1]^2)\n",
    "                end\n",
    "            end\n",
    "        end\n",
    "    end\n",
    "end"
   ],
   "metadata": {},
   "execution_count": 6
  },
  {
   "cell_type": "markdown",
   "source": [
    "The estimates of the item parameters are then obtained via standard optimization\n",
    "algorithms (either Newton-Raphson or L-BFGS). One last issue is that the model is\n",
    "not identifiable (multiplying the $\\xi_p$ by a constant and dividing the $\\epsilon_i$\n",
    "by the same constant results in the same likelihood). Therefore some kind of constraint\n",
    "must be imposed when estimating the parameters. Typically either $\\epsilon_1 = 0$ or\n",
    "$\\prod_{i=1}^m \\epsilon_i = 1$ (which is equivalent to $\\sum_{i=1}^m \\beta_i = 0$)."
   ],
   "metadata": {}
  },
  {
   "outputs": [
    {
     "output_type": "execute_result",
     "data": {
      "text/plain": " * Status: success\n\n * Candidate solution\n    Final objective value:     1.157522e+03\n\n * Found with\n    Algorithm:     Interior Point Newton\n\n * Convergence measures\n    |x - x'|               = 1.68e-10 ≰ 0.0e+00\n    |x - x'|/|x'|          = 6.41e-11 ≰ 0.0e+00\n    |f(x) - f(x')|         = 0.00e+00 ≤ 0.0e+00\n    |f(x) - f(x')|/|f(x')| = 0.00e+00 ≤ 0.0e+00\n    |g(x)|                 = 2.51e-09 ≤ 1.0e-08\n\n * Work counters\n    Seconds run:   0  (vs limit Inf)\n    Iterations:    22\n    f(x) calls:    40\n    ∇f(x) calls:   40\n"
     },
     "metadata": {},
     "execution_count": 7
    }
   ],
   "cell_type": "code",
   "source": [
    "con_c!(c, x) = (c[1] = sum(x); c)\n",
    "function con_jacobian!(J, x)\n",
    "    J[1, :] .= ones(length(x))\n",
    "end\n",
    "function con_h!(h, x, λ)\n",
    "    for i = 1:size(h)[1]\n",
    "        for j = 1:size(h)[2]\n",
    "            h[i, j] += (i == j) ? λ[1] : 0.0\n",
    "        end\n",
    "    end\n",
    "end\n",
    "lx = Float64[];\n",
    "ux = Float64[];\n",
    "lc = [0.0];\n",
    "uc = [0.0];\n",
    "df = TwiceDifferentiable(neglogLC, g!, h!, β0)\n",
    "dfc = TwiceDifferentiableConstraints(con_c!, con_jacobian!, con_h!, lx, ux, lc, uc)\n",
    "res = optimize(df, dfc, β0, IPNewton())"
   ],
   "metadata": {},
   "execution_count": 7
  },
  {
   "cell_type": "markdown",
   "source": [
    "Compare the estimate to the truth"
   ],
   "metadata": {}
  },
  {
   "outputs": [
    {
     "output_type": "execute_result",
     "data": {
      "text/plain": "5×2 Matrix{Float64}:\n -0.915143  -0.387085\n -0.242781   0.242732\n  1.22279    1.66615\n -3.05756   -2.62454\n  0.667647   1.10274"
     },
     "metadata": {},
     "execution_count": 8
    }
   ],
   "cell_type": "code",
   "source": [
    "delta_hat = res.minimizer\n",
    "[delta delta_hat]"
   ],
   "metadata": {},
   "execution_count": 8
  },
  {
   "cell_type": "markdown",
   "source": [
    "---\n",
    "\n",
    "*This notebook was generated using [Literate.jl](https://github.com/fredrikekre/Literate.jl).*"
   ],
   "metadata": {}
  }
 ],
 "nbformat_minor": 3,
 "metadata": {
  "language_info": {
   "file_extension": ".jl",
   "mimetype": "application/julia",
   "name": "julia",
   "version": "1.11.5"
  },
  "kernelspec": {
   "name": "julia-1.11",
   "display_name": "Julia 1.11.5",
   "language": "julia"
  }
 },
 "nbformat": 4
}
